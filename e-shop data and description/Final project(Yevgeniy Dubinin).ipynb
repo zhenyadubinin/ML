{
 "cells": [
  {
   "cell_type": "markdown",
   "metadata": {},
   "source": [
    "#The dataset contains information on clickstream from online store offering clothing for pregnant women.\n",
    "#YEAR (2008)\n",
    "#MONTH -> from April (4) to August (8)\n",
    "#DAY -> day number of the month\n",
    "#ORDER -> sequence of clicks during one session\n",
    "#COUNTRY -> variable indicating the country of origin of the IP address\n",
    "#SESSION ID -> variable indicating session id (short record)\n",
    "#PAGE 1 (MAIN CATEGORY) -> concerns the main product category: 1-trousers, 2-skirts, 3-blouses, 4-sale\n",
    "#PAGE 2 (CLOTHING MODEL) -> contains information about the code for each product\n",
    "#COLOUR -> colour of product\n",
    "#LOCATION -> photo location on the page, the screen has been divided into six parts: 1-top left, 2-top in the middle, 3-top right, 4-bottom left, 5-bottom in the middle, 6-bottom right\n",
    "#MODEL PHOTOGRAPHY -> variable with two categories: 1-en face, 2-profile\n",
    "#PRICE -> price in US dollars\n",
    "#PRICE 2 -> variable informing whether the price of a particular product is higher than the average price for the entire product category\n",
    "#PAGE -> page number within the e-store website (from 1 to 5)"
   ]
  },
  {
   "cell_type": "code",
   "execution_count": 1,
   "metadata": {},
   "outputs": [],
   "source": [
    "import pandas as pd\n",
    "import numpy as np\n",
    "import seaborn as sns\n",
    "import matplotlib.pyplot as plt\n",
    "%matplotlib inline"
   ]
  },
  {
   "cell_type": "code",
   "execution_count": 2,
   "metadata": {},
   "outputs": [
    {
     "data": {
      "text/html": [
       "<div>\n",
       "<style scoped>\n",
       "    .dataframe tbody tr th:only-of-type {\n",
       "        vertical-align: middle;\n",
       "    }\n",
       "\n",
       "    .dataframe tbody tr th {\n",
       "        vertical-align: top;\n",
       "    }\n",
       "\n",
       "    .dataframe thead th {\n",
       "        text-align: right;\n",
       "    }\n",
       "</style>\n",
       "<table border=\"1\" class=\"dataframe\">\n",
       "  <thead>\n",
       "    <tr style=\"text-align: right;\">\n",
       "      <th></th>\n",
       "      <th>year</th>\n",
       "      <th>month</th>\n",
       "      <th>day</th>\n",
       "      <th>order</th>\n",
       "      <th>country</th>\n",
       "      <th>session ID</th>\n",
       "      <th>page 1 (main category)</th>\n",
       "      <th>page 2 (clothing model)</th>\n",
       "      <th>colour</th>\n",
       "      <th>location</th>\n",
       "      <th>model photography</th>\n",
       "      <th>price</th>\n",
       "      <th>price 2</th>\n",
       "      <th>page</th>\n",
       "    </tr>\n",
       "  </thead>\n",
       "  <tbody>\n",
       "    <tr>\n",
       "      <th>0</th>\n",
       "      <td>2008</td>\n",
       "      <td>4</td>\n",
       "      <td>1</td>\n",
       "      <td>1</td>\n",
       "      <td>29</td>\n",
       "      <td>1</td>\n",
       "      <td>1</td>\n",
       "      <td>A13</td>\n",
       "      <td>1</td>\n",
       "      <td>5</td>\n",
       "      <td>1</td>\n",
       "      <td>28</td>\n",
       "      <td>2</td>\n",
       "      <td>1</td>\n",
       "    </tr>\n",
       "    <tr>\n",
       "      <th>1</th>\n",
       "      <td>2008</td>\n",
       "      <td>4</td>\n",
       "      <td>1</td>\n",
       "      <td>2</td>\n",
       "      <td>29</td>\n",
       "      <td>1</td>\n",
       "      <td>1</td>\n",
       "      <td>A16</td>\n",
       "      <td>1</td>\n",
       "      <td>6</td>\n",
       "      <td>1</td>\n",
       "      <td>33</td>\n",
       "      <td>2</td>\n",
       "      <td>1</td>\n",
       "    </tr>\n",
       "    <tr>\n",
       "      <th>2</th>\n",
       "      <td>2008</td>\n",
       "      <td>4</td>\n",
       "      <td>1</td>\n",
       "      <td>3</td>\n",
       "      <td>29</td>\n",
       "      <td>1</td>\n",
       "      <td>2</td>\n",
       "      <td>B4</td>\n",
       "      <td>10</td>\n",
       "      <td>2</td>\n",
       "      <td>1</td>\n",
       "      <td>52</td>\n",
       "      <td>1</td>\n",
       "      <td>1</td>\n",
       "    </tr>\n",
       "    <tr>\n",
       "      <th>3</th>\n",
       "      <td>2008</td>\n",
       "      <td>4</td>\n",
       "      <td>1</td>\n",
       "      <td>4</td>\n",
       "      <td>29</td>\n",
       "      <td>1</td>\n",
       "      <td>2</td>\n",
       "      <td>B17</td>\n",
       "      <td>6</td>\n",
       "      <td>6</td>\n",
       "      <td>2</td>\n",
       "      <td>38</td>\n",
       "      <td>2</td>\n",
       "      <td>1</td>\n",
       "    </tr>\n",
       "    <tr>\n",
       "      <th>4</th>\n",
       "      <td>2008</td>\n",
       "      <td>4</td>\n",
       "      <td>1</td>\n",
       "      <td>5</td>\n",
       "      <td>29</td>\n",
       "      <td>1</td>\n",
       "      <td>2</td>\n",
       "      <td>B8</td>\n",
       "      <td>4</td>\n",
       "      <td>3</td>\n",
       "      <td>2</td>\n",
       "      <td>52</td>\n",
       "      <td>1</td>\n",
       "      <td>1</td>\n",
       "    </tr>\n",
       "  </tbody>\n",
       "</table>\n",
       "</div>"
      ],
      "text/plain": [
       "   year  month  day  order  country  session ID  page 1 (main category)  \\\n",
       "0  2008      4    1      1       29           1                       1   \n",
       "1  2008      4    1      2       29           1                       1   \n",
       "2  2008      4    1      3       29           1                       2   \n",
       "3  2008      4    1      4       29           1                       2   \n",
       "4  2008      4    1      5       29           1                       2   \n",
       "\n",
       "  page 2 (clothing model)  colour  location  model photography  price  \\\n",
       "0                     A13       1         5                  1     28   \n",
       "1                     A16       1         6                  1     33   \n",
       "2                      B4      10         2                  1     52   \n",
       "3                     B17       6         6                  2     38   \n",
       "4                      B8       4         3                  2     52   \n",
       "\n",
       "   price 2  page  \n",
       "0        2     1  \n",
       "1        2     1  \n",
       "2        1     1  \n",
       "3        2     1  \n",
       "4        1     1  "
      ]
     },
     "execution_count": 2,
     "metadata": {},
     "output_type": "execute_result"
    }
   ],
   "source": [
    "df = pd.read_csv('e-shop clothing 2008.csv',delimiter=\";\")\n",
    "df2 = df.copy()\n",
    "df2.head()"
   ]
  },
  {
   "cell_type": "code",
   "execution_count": 3,
   "metadata": {},
   "outputs": [
    {
     "name": "stdout",
     "output_type": "stream",
     "text": [
      "<class 'pandas.core.frame.DataFrame'>\n",
      "RangeIndex: 165474 entries, 0 to 165473\n",
      "Data columns (total 14 columns):\n",
      "year                       165474 non-null int64\n",
      "month                      165474 non-null int64\n",
      "day                        165474 non-null int64\n",
      "order                      165474 non-null int64\n",
      "country                    165474 non-null int64\n",
      "session ID                 165474 non-null int64\n",
      "page 1 (main category)     165474 non-null int64\n",
      "page 2 (clothing model)    165474 non-null object\n",
      "colour                     165474 non-null int64\n",
      "location                   165474 non-null int64\n",
      "model photography          165474 non-null int64\n",
      "price                      165474 non-null int64\n",
      "price 2                    165474 non-null int64\n",
      "page                       165474 non-null int64\n",
      "dtypes: int64(13), object(1)\n",
      "memory usage: 17.7+ MB\n"
     ]
    },
    {
     "data": {
      "text/html": [
       "<div>\n",
       "<style scoped>\n",
       "    .dataframe tbody tr th:only-of-type {\n",
       "        vertical-align: middle;\n",
       "    }\n",
       "\n",
       "    .dataframe tbody tr th {\n",
       "        vertical-align: top;\n",
       "    }\n",
       "\n",
       "    .dataframe thead th {\n",
       "        text-align: right;\n",
       "    }\n",
       "</style>\n",
       "<table border=\"1\" class=\"dataframe\">\n",
       "  <thead>\n",
       "    <tr style=\"text-align: right;\">\n",
       "      <th></th>\n",
       "      <th>year</th>\n",
       "      <th>month</th>\n",
       "      <th>day</th>\n",
       "      <th>order</th>\n",
       "      <th>country</th>\n",
       "      <th>session ID</th>\n",
       "      <th>page 1 (main category)</th>\n",
       "      <th>colour</th>\n",
       "      <th>location</th>\n",
       "      <th>model photography</th>\n",
       "      <th>price</th>\n",
       "      <th>price 2</th>\n",
       "      <th>page</th>\n",
       "    </tr>\n",
       "  </thead>\n",
       "  <tbody>\n",
       "    <tr>\n",
       "      <th>count</th>\n",
       "      <td>165474.0</td>\n",
       "      <td>165474.000000</td>\n",
       "      <td>165474.000000</td>\n",
       "      <td>165474.000000</td>\n",
       "      <td>165474.000000</td>\n",
       "      <td>165474.000000</td>\n",
       "      <td>165474.000000</td>\n",
       "      <td>165474.000000</td>\n",
       "      <td>165474.000000</td>\n",
       "      <td>165474.000000</td>\n",
       "      <td>165474.000000</td>\n",
       "      <td>165474.000000</td>\n",
       "      <td>165474.000000</td>\n",
       "    </tr>\n",
       "    <tr>\n",
       "      <th>mean</th>\n",
       "      <td>2008.0</td>\n",
       "      <td>5.585887</td>\n",
       "      <td>14.524554</td>\n",
       "      <td>9.817476</td>\n",
       "      <td>26.952621</td>\n",
       "      <td>12058.417056</td>\n",
       "      <td>2.400842</td>\n",
       "      <td>6.227655</td>\n",
       "      <td>3.258198</td>\n",
       "      <td>1.260071</td>\n",
       "      <td>43.802507</td>\n",
       "      <td>1.488167</td>\n",
       "      <td>1.710166</td>\n",
       "    </tr>\n",
       "    <tr>\n",
       "      <th>std</th>\n",
       "      <td>0.0</td>\n",
       "      <td>1.328160</td>\n",
       "      <td>8.830374</td>\n",
       "      <td>13.478411</td>\n",
       "      <td>7.150691</td>\n",
       "      <td>7008.418903</td>\n",
       "      <td>1.144420</td>\n",
       "      <td>4.235606</td>\n",
       "      <td>1.713206</td>\n",
       "      <td>0.438674</td>\n",
       "      <td>12.548131</td>\n",
       "      <td>0.499861</td>\n",
       "      <td>0.982412</td>\n",
       "    </tr>\n",
       "    <tr>\n",
       "      <th>min</th>\n",
       "      <td>2008.0</td>\n",
       "      <td>4.000000</td>\n",
       "      <td>1.000000</td>\n",
       "      <td>1.000000</td>\n",
       "      <td>1.000000</td>\n",
       "      <td>1.000000</td>\n",
       "      <td>1.000000</td>\n",
       "      <td>1.000000</td>\n",
       "      <td>1.000000</td>\n",
       "      <td>1.000000</td>\n",
       "      <td>18.000000</td>\n",
       "      <td>1.000000</td>\n",
       "      <td>1.000000</td>\n",
       "    </tr>\n",
       "    <tr>\n",
       "      <th>25%</th>\n",
       "      <td>2008.0</td>\n",
       "      <td>4.000000</td>\n",
       "      <td>7.000000</td>\n",
       "      <td>2.000000</td>\n",
       "      <td>29.000000</td>\n",
       "      <td>5931.000000</td>\n",
       "      <td>1.000000</td>\n",
       "      <td>3.000000</td>\n",
       "      <td>2.000000</td>\n",
       "      <td>1.000000</td>\n",
       "      <td>33.000000</td>\n",
       "      <td>1.000000</td>\n",
       "      <td>1.000000</td>\n",
       "    </tr>\n",
       "    <tr>\n",
       "      <th>50%</th>\n",
       "      <td>2008.0</td>\n",
       "      <td>5.000000</td>\n",
       "      <td>14.000000</td>\n",
       "      <td>6.000000</td>\n",
       "      <td>29.000000</td>\n",
       "      <td>11967.500000</td>\n",
       "      <td>2.000000</td>\n",
       "      <td>4.000000</td>\n",
       "      <td>3.000000</td>\n",
       "      <td>1.000000</td>\n",
       "      <td>43.000000</td>\n",
       "      <td>1.000000</td>\n",
       "      <td>1.000000</td>\n",
       "    </tr>\n",
       "    <tr>\n",
       "      <th>75%</th>\n",
       "      <td>2008.0</td>\n",
       "      <td>7.000000</td>\n",
       "      <td>22.000000</td>\n",
       "      <td>12.000000</td>\n",
       "      <td>29.000000</td>\n",
       "      <td>18219.000000</td>\n",
       "      <td>3.000000</td>\n",
       "      <td>9.000000</td>\n",
       "      <td>5.000000</td>\n",
       "      <td>2.000000</td>\n",
       "      <td>52.000000</td>\n",
       "      <td>2.000000</td>\n",
       "      <td>2.000000</td>\n",
       "    </tr>\n",
       "    <tr>\n",
       "      <th>max</th>\n",
       "      <td>2008.0</td>\n",
       "      <td>8.000000</td>\n",
       "      <td>31.000000</td>\n",
       "      <td>195.000000</td>\n",
       "      <td>47.000000</td>\n",
       "      <td>24026.000000</td>\n",
       "      <td>4.000000</td>\n",
       "      <td>14.000000</td>\n",
       "      <td>6.000000</td>\n",
       "      <td>2.000000</td>\n",
       "      <td>82.000000</td>\n",
       "      <td>2.000000</td>\n",
       "      <td>5.000000</td>\n",
       "    </tr>\n",
       "  </tbody>\n",
       "</table>\n",
       "</div>"
      ],
      "text/plain": [
       "           year          month            day          order        country  \\\n",
       "count  165474.0  165474.000000  165474.000000  165474.000000  165474.000000   \n",
       "mean     2008.0       5.585887      14.524554       9.817476      26.952621   \n",
       "std         0.0       1.328160       8.830374      13.478411       7.150691   \n",
       "min      2008.0       4.000000       1.000000       1.000000       1.000000   \n",
       "25%      2008.0       4.000000       7.000000       2.000000      29.000000   \n",
       "50%      2008.0       5.000000      14.000000       6.000000      29.000000   \n",
       "75%      2008.0       7.000000      22.000000      12.000000      29.000000   \n",
       "max      2008.0       8.000000      31.000000     195.000000      47.000000   \n",
       "\n",
       "          session ID  page 1 (main category)         colour       location  \\\n",
       "count  165474.000000           165474.000000  165474.000000  165474.000000   \n",
       "mean    12058.417056                2.400842       6.227655       3.258198   \n",
       "std      7008.418903                1.144420       4.235606       1.713206   \n",
       "min         1.000000                1.000000       1.000000       1.000000   \n",
       "25%      5931.000000                1.000000       3.000000       2.000000   \n",
       "50%     11967.500000                2.000000       4.000000       3.000000   \n",
       "75%     18219.000000                3.000000       9.000000       5.000000   \n",
       "max     24026.000000                4.000000      14.000000       6.000000   \n",
       "\n",
       "       model photography          price        price 2           page  \n",
       "count      165474.000000  165474.000000  165474.000000  165474.000000  \n",
       "mean            1.260071      43.802507       1.488167       1.710166  \n",
       "std             0.438674      12.548131       0.499861       0.982412  \n",
       "min             1.000000      18.000000       1.000000       1.000000  \n",
       "25%             1.000000      33.000000       1.000000       1.000000  \n",
       "50%             1.000000      43.000000       1.000000       1.000000  \n",
       "75%             2.000000      52.000000       2.000000       2.000000  \n",
       "max             2.000000      82.000000       2.000000       5.000000  "
      ]
     },
     "execution_count": 3,
     "metadata": {},
     "output_type": "execute_result"
    }
   ],
   "source": [
    "df.info()\n",
    "df.describe()"
   ]
  },
  {
   "cell_type": "code",
   "execution_count": 4,
   "metadata": {},
   "outputs": [],
   "source": [
    "# Convert categorical variables to string\n",
    "country = {\n",
    "    1:'Australia',\n",
    "    2:'Austria',\n",
    "    3:'Belgium',\n",
    "    4:'British Virgin Islands',\n",
    "    5:'Cayman Islands',\n",
    "    6:'Christmas Island',\n",
    "    7:'Croatia',\n",
    "    8:'Cyprus',\n",
    "    9:'Czech Republic',\n",
    "    10:'Denmark',\n",
    "    11:'Estonia',\n",
    "    12:'unidentified',\n",
    "    13:'Faroe Islands',\n",
    "    14:'Finland',\n",
    "    15:'France',\n",
    "    16:'Germany',\n",
    "    17:'Greece',\n",
    "    18:'Hungary',\n",
    "    19:'Iceland',\n",
    "    20:'India',\n",
    "    21:'Ireland',\n",
    "    22:'Italy',\n",
    "    23:'Latvia',\n",
    "    24:'Lithuania',\n",
    "    25:'Luxembourg',\n",
    "    26:'Mexico',\n",
    "    27:'Netherlands',\n",
    "    28:'Norway',\n",
    "    29:'Poland',\n",
    "    30:'Portugal',\n",
    "    31:'Romania',\n",
    "    32:'Russia',\n",
    "    33:'San Marino',\n",
    "    34:'Slovakia',\n",
    "    35:'Slovenia',\n",
    "    36:'Spain',\n",
    "    37:'Sweden',\n",
    "    38:'Switzerland',\n",
    "    39:'Ukraine',\n",
    "    40:'United Arab Emirates',\n",
    "    41:'United Kingdom',\n",
    "    42:'USA',\n",
    "    43:'biz (*.biz)',\n",
    "    44:'com (*.com)',\n",
    "    45:'int (*.int)',\n",
    "    46:'net (*.net)',\n",
    "    47:'org (*.org)',\n",
    "}\n",
    "\n",
    "main_cat = {\n",
    "    1:'trousers',\n",
    "    2:'skirts',\n",
    "    3:'blouses',\n",
    "    4:'sale',\n",
    "}\n",
    "\n",
    "color = {\n",
    "    1:'beige',\n",
    "    2:'black',\n",
    "    3:'blue',\n",
    "    4:'brown',\n",
    "    5:'burgundy',\n",
    "    6:'gray',\n",
    "    7:'green',\n",
    "    8:'navy blue',\n",
    "    9:'of many colors',\n",
    "    10:'olive',\n",
    "    11:'pink',\n",
    "    12:'red',\n",
    "    13:'violet',\n",
    "    14:'white',\n",
    "}\n",
    "\n",
    "location = {\n",
    "    1:'top left',\n",
    "    2:'top in the middle',\n",
    "    3:'top right',\n",
    "    4:'bottom left',\n",
    "    5:'bottom in the middle',\n",
    "    6:'bottom right',\n",
    "}\n",
    "\n",
    "model_photo = {\n",
    "    1:'en face',\n",
    "    2:'profile',\n",
    "}\n",
    "\n",
    "def model_photo_change(x):\n",
    "    return model_photo[x]\n",
    "\n",
    "def location_change(x):\n",
    "    return location[x]\n",
    "\n",
    "def color_change(x):\n",
    "    return color[x]\n",
    "\n",
    "def country_change(x):\n",
    "    return country[x]\n",
    "\n",
    "def main_cat_change(x):\n",
    "    return main_cat[x]\n",
    "\n",
    "def price2(x):\n",
    "    return abs(x-2)\n",
    "\n",
    "df['price 2'] = df['price 2'].apply(price2)\n",
    "df[\"country\"] = df[\"country\"].apply(country_change)\n",
    "df[\"page 1 (main category)\"] = df[\"page 1 (main category)\"].apply(main_cat_change)\n",
    "df[\"colour\"] = df[\"colour\"].apply(color_change)\n",
    "df[\"location\"] = df[\"location\"].apply(location_change)\n",
    "df[\"model photography\"] = df[\"model photography\"].apply(model_photo_change)\n",
    "df['page'] = df['page'].astype(str)"
   ]
  },
  {
   "cell_type": "code",
   "execution_count": 5,
   "metadata": {},
   "outputs": [
    {
     "data": {
      "text/plain": [
       "<matplotlib.axes._subplots.AxesSubplot at 0x25b59017898>"
      ]
     },
     "execution_count": 5,
     "metadata": {},
     "output_type": "execute_result"
    },
    {
     "data": {
      "image/png": "[encoded data removed]",
      "text/plain": [
       "<Figure size 1296x864 with 2 Axes>"
      ]
     },
     "metadata": {
      "needs_background": "light"
     },
     "output_type": "display_data"
    }
   ],
   "source": [
    "fig = plt.figure(figsize=(18,12))\n",
    "sns.heatmap(df2.corr(),annot=True)"
   ]
  },
  {
   "cell_type": "code",
   "execution_count": 17,
   "metadata": {},
   "outputs": [
    {
     "data": {
      "text/plain": [
       "Text(0.5, 0, 'count')"
      ]
     },
     "execution_count": 17,
     "metadata": {},
     "output_type": "execute_result"
    },
    {
     "data": {
      "image/png": "[encoded data removed]",
      "text/plain": [
       "<Figure size 1296x1296 with 5 Axes>"
      ]
     },
     "metadata": {
      "needs_background": "light"
     },
     "output_type": "display_data"
    }
   ],
   "source": [
    "# df[\"country\"].value_counts().head()\n",
    "# df[\"page 1 (main category)\"].value_counts()\n",
    "# df[\"colour\"].value_counts().head()\n",
    "# df[\"location\"].value_counts()\n",
    "# df[\"model photography\"].value_counts()\n",
    "# df[\"order\"].value_counts().head()\n",
    "# df[\"session ID\"].value_counts().head()\n",
    "fig, ax = plt.subplots(5, figsize=(18, 18), sharex=True)\n",
    "ax[0].barh(df[\"country\"].value_counts().index[:5],df[\"country\"].value_counts()[:5])\n",
    "ax[0].set_title(\"Top 5 countries by clickstreams\",fontdict = {\"fontsize\":20})\n",
    "ax[1].barh(df[\"location\"].value_counts().index,df[\"location\"].value_counts())\n",
    "ax[2].barh(df[\"model photography\"].value_counts().index,df[\"model photography\"].value_counts())\n",
    "ax[3].barh(df[\"page\"].value_counts().index,df[\"page\"].value_counts())\n",
    "ax[4].barh(df[\"colour\"].value_counts().index,df[\"colour\"].value_counts())\n",
    "ax[3].set_xlabel('count')"
   ]
  },
  {
   "cell_type": "code",
   "execution_count": 9,
   "metadata": {},
   "outputs": [
    {
     "data": {
      "text/plain": [
       "<matplotlib.axes._subplots.AxesSubplot at 0x1be04d911d0>"
      ]
     },
     "execution_count": 9,
     "metadata": {},
     "output_type": "execute_result"
    },
    {
     "data": {
      "image/png": "[encoded data removed]",
      "text/plain": [
       "<Figure size 432x288 with 1 Axes>"
      ]
     },
     "metadata": {
      "needs_background": "light"
     },
     "output_type": "display_data"
    }
   ],
   "source": [
    "orders_df = df[['order'] + ['month']]\n",
    "orders_df.groupby('month').count().plot(kind='bar', rot=0) "
   ]
  },
  {
   "cell_type": "code",
   "execution_count": 18,
   "metadata": {},
   "outputs": [
    {
     "data": {
      "text/plain": [
       "<matplotlib.axes._subplots.AxesSubplot at 0x2131ae9b860>"
      ]
     },
     "execution_count": 18,
     "metadata": {},
     "output_type": "execute_result"
    },
    {
     "data": {
      "image/png": "[encoded data removed]",
      "text/plain": [
       "<Figure size 432x288 with 1 Axes>"
      ]
     },
     "metadata": {
      "needs_background": "light"
     },
     "output_type": "display_data"
    }
   ],
   "source": [
    "sns.countplot(df[\"price\"])"
   ]
  },
  {
   "cell_type": "code",
   "execution_count": 19,
   "metadata": {},
   "outputs": [
    {
     "data": {
      "text/plain": [
       "<matplotlib.axes._subplots.AxesSubplot at 0x2131b149080>"
      ]
     },
     "execution_count": 19,
     "metadata": {},
     "output_type": "execute_result"
    },
    {
     "data": {
      "image/png": "[encoded data removed]",
      "text/plain": [
       "<Figure size 432x288 with 1 Axes>"
      ]
     },
     "metadata": {
      "needs_background": "light"
     },
     "output_type": "display_data"
    }
   ],
   "source": [
    "sns.countplot(df[\"price 2\"])"
   ]
  },
  {
   "cell_type": "code",
   "execution_count": 11,
   "metadata": {},
   "outputs": [
    {
     "data": {
      "image/png": "[encoded data removed]",
      "text/plain": [
       "<Figure size 432x288 with 1 Axes>"
      ]
     },
     "metadata": {
      "needs_background": "light"
     },
     "output_type": "display_data"
    }
   ],
   "source": [
    "sns_plot = sns.boxplot(x=\"price\", y=\"page 1 (main category)\", data=df)"
   ]
  },
  {
   "cell_type": "code",
   "execution_count": 13,
   "metadata": {},
   "outputs": [
    {
     "data": {
      "text/plain": [
       "array([<matplotlib.axes._subplots.AxesSubplot object at 0x000001BE05FEE518>],\n",
       "      dtype=object)"
      ]
     },
     "execution_count": 13,
     "metadata": {},
     "output_type": "execute_result"
    },
    {
     "data": {
      "image/png": "[encoded data removed]",
      "text/plain": [
       "<Figure size 864x576 with 1 Axes>"
      ]
     },
     "metadata": {},
     "output_type": "display_data"
    }
   ],
   "source": [
    "df[\"page 1 (main category)\"].value_counts().plot.pie(subplots=True,figsize=(12,8))"
   ]
  },
  {
   "cell_type": "code",
   "execution_count": 4,
   "metadata": {},
   "outputs": [],
   "source": [
    "# df[\"Date\"] = df[\"year\"].astype('str') + df[\"month\"].astype('str') + df[\"day\"].astype('str')\n",
    "# df['Date'] = pd.to_datetime(df['Date'], format='%Y%m%d')"
   ]
  },
  {
   "cell_type": "code",
   "execution_count": 41,
   "metadata": {},
   "outputs": [
    {
     "data": {
      "text/plain": [
       "<matplotlib.axes._subplots.AxesSubplot at 0x25b6227ecc0>"
      ]
     },
     "execution_count": 41,
     "metadata": {},
     "output_type": "execute_result"
    },
    {
     "data": {
      "image/png": "[encoded data removed]",
      "text/plain": [
       "<Figure size 1440x864 with 1 Axes>"
      ]
     },
     "metadata": {
      "needs_background": "light"
     },
     "output_type": "display_data"
    }
   ],
   "source": [
    "model = df[\"page 2 (clothing model)\"].value_counts()\n",
    "# plt.plot(df[df[\"page 2 (clothing model)\"] in model.index][\"price\"], model)\n",
    "fig = plt.figure(figsize=(20,12))\n",
    "df.groupby('page 2 (clothing model)')[\"price\"].sum()[:43].plot(kind='bar', rot=0)"
   ]
  },
  {
   "cell_type": "code",
   "execution_count": 42,
   "metadata": {},
   "outputs": [
    {
     "data": {
      "text/plain": [
       "<matplotlib.axes._subplots.AxesSubplot at 0x25b624ad1d0>"
      ]
     },
     "execution_count": 42,
     "metadata": {},
     "output_type": "execute_result"
    },
    {
     "data": {
      "image/png": "[encoded data removed]",
      "text/plain": [
       "<Figure size 1440x864 with 1 Axes>"
      ]
     },
     "metadata": {
      "needs_background": "light"
     },
     "output_type": "display_data"
    }
   ],
   "source": [
    "fig = plt.figure(figsize=(20,12))\n",
    "df.groupby('page 2 (clothing model)')[\"price\"].sum()[43:76].plot(kind='bar', rot=0)"
   ]
  },
  {
   "cell_type": "code",
   "execution_count": 43,
   "metadata": {},
   "outputs": [
    {
     "data": {
      "text/plain": [
       "<matplotlib.axes._subplots.AxesSubplot at 0x25b62362128>"
      ]
     },
     "execution_count": 43,
     "metadata": {},
     "output_type": "execute_result"
    },
    {
     "data": {
      "image/png": "[encoded data removed]",
      "text/plain": [
       "<Figure size 1728x720 with 1 Axes>"
      ]
     },
     "metadata": {
      "needs_background": "light"
     },
     "output_type": "display_data"
    }
   ],
   "source": [
    "fig = plt.figure(figsize=(24,10))\n",
    "df.groupby('page 2 (clothing model)')[\"price\"].sum()[76:135].plot(kind='bar', rot=0)"
   ]
  },
  {
   "cell_type": "code",
   "execution_count": 44,
   "metadata": {},
   "outputs": [
    {
     "data": {
      "text/plain": [
       "<matplotlib.axes._subplots.AxesSubplot at 0x25b64e8fac8>"
      ]
     },
     "execution_count": 44,
     "metadata": {},
     "output_type": "execute_result"
    },
    {
     "data": {
      "image/png": "[encoded data removed]",
      "text/plain": [
       "<Figure size 2160x720 with 1 Axes>"
      ]
     },
     "metadata": {
      "needs_background": "light"
     },
     "output_type": "display_data"
    }
   ],
   "source": [
    "fig = plt.figure(figsize=(30,10))\n",
    "df.groupby('page 2 (clothing model)')[\"price\"].sum()[135:].plot(kind='bar', rot=0)"
   ]
  },
  {
   "cell_type": "code",
   "execution_count": 71,
   "metadata": {},
   "outputs": [
    {
     "data": {
      "text/plain": [
       "<matplotlib.axes._subplots.AxesSubplot at 0x23c184d3128>"
      ]
     },
     "execution_count": 71,
     "metadata": {},
     "output_type": "execute_result"
    },
    {
     "data": {
      "image/png": "[encoded data removed]",
      "text/plain": [
       "<Figure size 432x288 with 1 Axes>"
      ]
     },
     "metadata": {
      "needs_background": "light"
     },
     "output_type": "display_data"
    }
   ],
   "source": [
    "sns.countplot(df[\"price\"])"
   ]
  },
  {
   "cell_type": "code",
   "execution_count": 5,
   "metadata": {},
   "outputs": [],
   "source": [
    "def price_type(x):\n",
    "    if x <= 27:\n",
    "        return 0\n",
    "    elif x > 27 and x <= 49:\n",
    "        return 1\n",
    "    elif x > 49 and x <= 63:\n",
    "        return 2\n",
    "    elif x > 63:\n",
    "        return 3\n",
    "df[\"price_type\"] = df[\"price\"].apply(price_type)"
   ]
  },
  {
   "cell_type": "code",
   "execution_count": 6,
   "metadata": {},
   "outputs": [
    {
     "data": {
      "text/html": [
       "<div>\n",
       "<style scoped>\n",
       "    .dataframe tbody tr th:only-of-type {\n",
       "        vertical-align: middle;\n",
       "    }\n",
       "\n",
       "    .dataframe tbody tr th {\n",
       "        vertical-align: top;\n",
       "    }\n",
       "\n",
       "    .dataframe thead th {\n",
       "        text-align: right;\n",
       "    }\n",
       "</style>\n",
       "<table border=\"1\" class=\"dataframe\">\n",
       "  <thead>\n",
       "    <tr style=\"text-align: right;\">\n",
       "      <th></th>\n",
       "      <th>year</th>\n",
       "      <th>month</th>\n",
       "      <th>day</th>\n",
       "      <th>order</th>\n",
       "      <th>country</th>\n",
       "      <th>session ID</th>\n",
       "      <th>page 2 (clothing model)</th>\n",
       "      <th>price</th>\n",
       "      <th>price 2</th>\n",
       "      <th>price_type</th>\n",
       "      <th>...</th>\n",
       "      <th>location_top in the middle</th>\n",
       "      <th>location_top left</th>\n",
       "      <th>location_top right</th>\n",
       "      <th>model photography_en face</th>\n",
       "      <th>model photography_profile</th>\n",
       "      <th>page_1</th>\n",
       "      <th>page_2</th>\n",
       "      <th>page_3</th>\n",
       "      <th>page_4</th>\n",
       "      <th>page_5</th>\n",
       "    </tr>\n",
       "  </thead>\n",
       "  <tbody>\n",
       "    <tr>\n",
       "      <th>0</th>\n",
       "      <td>2008</td>\n",
       "      <td>4</td>\n",
       "      <td>1</td>\n",
       "      <td>1</td>\n",
       "      <td>Poland</td>\n",
       "      <td>1</td>\n",
       "      <td>A13</td>\n",
       "      <td>28</td>\n",
       "      <td>0</td>\n",
       "      <td>1</td>\n",
       "      <td>...</td>\n",
       "      <td>0</td>\n",
       "      <td>0</td>\n",
       "      <td>0</td>\n",
       "      <td>1</td>\n",
       "      <td>0</td>\n",
       "      <td>1</td>\n",
       "      <td>0</td>\n",
       "      <td>0</td>\n",
       "      <td>0</td>\n",
       "      <td>0</td>\n",
       "    </tr>\n",
       "    <tr>\n",
       "      <th>1</th>\n",
       "      <td>2008</td>\n",
       "      <td>4</td>\n",
       "      <td>1</td>\n",
       "      <td>2</td>\n",
       "      <td>Poland</td>\n",
       "      <td>1</td>\n",
       "      <td>A16</td>\n",
       "      <td>33</td>\n",
       "      <td>0</td>\n",
       "      <td>1</td>\n",
       "      <td>...</td>\n",
       "      <td>0</td>\n",
       "      <td>0</td>\n",
       "      <td>0</td>\n",
       "      <td>1</td>\n",
       "      <td>0</td>\n",
       "      <td>1</td>\n",
       "      <td>0</td>\n",
       "      <td>0</td>\n",
       "      <td>0</td>\n",
       "      <td>0</td>\n",
       "    </tr>\n",
       "    <tr>\n",
       "      <th>2</th>\n",
       "      <td>2008</td>\n",
       "      <td>4</td>\n",
       "      <td>1</td>\n",
       "      <td>3</td>\n",
       "      <td>Poland</td>\n",
       "      <td>1</td>\n",
       "      <td>B4</td>\n",
       "      <td>52</td>\n",
       "      <td>1</td>\n",
       "      <td>2</td>\n",
       "      <td>...</td>\n",
       "      <td>1</td>\n",
       "      <td>0</td>\n",
       "      <td>0</td>\n",
       "      <td>1</td>\n",
       "      <td>0</td>\n",
       "      <td>1</td>\n",
       "      <td>0</td>\n",
       "      <td>0</td>\n",
       "      <td>0</td>\n",
       "      <td>0</td>\n",
       "    </tr>\n",
       "    <tr>\n",
       "      <th>3</th>\n",
       "      <td>2008</td>\n",
       "      <td>4</td>\n",
       "      <td>1</td>\n",
       "      <td>4</td>\n",
       "      <td>Poland</td>\n",
       "      <td>1</td>\n",
       "      <td>B17</td>\n",
       "      <td>38</td>\n",
       "      <td>0</td>\n",
       "      <td>1</td>\n",
       "      <td>...</td>\n",
       "      <td>0</td>\n",
       "      <td>0</td>\n",
       "      <td>0</td>\n",
       "      <td>0</td>\n",
       "      <td>1</td>\n",
       "      <td>1</td>\n",
       "      <td>0</td>\n",
       "      <td>0</td>\n",
       "      <td>0</td>\n",
       "      <td>0</td>\n",
       "    </tr>\n",
       "    <tr>\n",
       "      <th>4</th>\n",
       "      <td>2008</td>\n",
       "      <td>4</td>\n",
       "      <td>1</td>\n",
       "      <td>5</td>\n",
       "      <td>Poland</td>\n",
       "      <td>1</td>\n",
       "      <td>B8</td>\n",
       "      <td>52</td>\n",
       "      <td>1</td>\n",
       "      <td>2</td>\n",
       "      <td>...</td>\n",
       "      <td>0</td>\n",
       "      <td>0</td>\n",
       "      <td>1</td>\n",
       "      <td>0</td>\n",
       "      <td>1</td>\n",
       "      <td>1</td>\n",
       "      <td>0</td>\n",
       "      <td>0</td>\n",
       "      <td>0</td>\n",
       "      <td>0</td>\n",
       "    </tr>\n",
       "  </tbody>\n",
       "</table>\n",
       "<p>5 rows × 41 columns</p>\n",
       "</div>"
      ],
      "text/plain": [
       "   year  month  day  order country  session ID page 2 (clothing model)  price  \\\n",
       "0  2008      4    1      1  Poland           1                     A13     28   \n",
       "1  2008      4    1      2  Poland           1                     A16     33   \n",
       "2  2008      4    1      3  Poland           1                      B4     52   \n",
       "3  2008      4    1      4  Poland           1                     B17     38   \n",
       "4  2008      4    1      5  Poland           1                      B8     52   \n",
       "\n",
       "   price 2  price_type  ...  location_top in the middle  location_top left  \\\n",
       "0        0           1  ...                           0                  0   \n",
       "1        0           1  ...                           0                  0   \n",
       "2        1           2  ...                           1                  0   \n",
       "3        0           1  ...                           0                  0   \n",
       "4        1           2  ...                           0                  0   \n",
       "\n",
       "   location_top right  model photography_en face  model photography_profile  \\\n",
       "0                   0                          1                          0   \n",
       "1                   0                          1                          0   \n",
       "2                   0                          1                          0   \n",
       "3                   0                          0                          1   \n",
       "4                   1                          0                          1   \n",
       "\n",
       "   page_1  page_2  page_3  page_4  page_5  \n",
       "0       1       0       0       0       0  \n",
       "1       1       0       0       0       0  \n",
       "2       1       0       0       0       0  \n",
       "3       1       0       0       0       0  \n",
       "4       1       0       0       0       0  \n",
       "\n",
       "[5 rows x 41 columns]"
      ]
     },
     "execution_count": 6,
     "metadata": {},
     "output_type": "execute_result"
    }
   ],
   "source": [
    "df = pd.get_dummies(df, columns=['colour','page 1 (main category)','location','model photography','page'])\n",
    "df.head()"
   ]
  },
  {
   "cell_type": "code",
   "execution_count": 6,
   "metadata": {},
   "outputs": [],
   "source": [
    "# df.info()"
   ]
  },
  {
   "cell_type": "markdown",
   "metadata": {},
   "source": [
    "# SGD Regressor"
   ]
  },
  {
   "cell_type": "code",
   "execution_count": 6,
   "metadata": {},
   "outputs": [],
   "source": [
    "from sklearn.linear_model import SGDRegressor\n",
    "from sklearn.pipeline import make_pipeline\n",
    "from sklearn.preprocessing import StandardScaler\n",
    "from sklearn.model_selection import cross_val_score\n",
    "from sklearn.model_selection import train_test_split\n",
    "from sklearn.metrics import mean_absolute_error\n",
    "from sklearn.metrics import mean_squared_error"
   ]
  },
  {
   "cell_type": "code",
   "execution_count": 47,
   "metadata": {},
   "outputs": [
    {
     "name": "stdout",
     "output_type": "stream",
     "text": [
      "Index(['year', 'month', 'day', 'order', 'country', 'session ID',\n",
      "       'page 2 (clothing model)', 'price', 'price 2', 'colour_beige',\n",
      "       'colour_black', 'colour_blue', 'colour_brown', 'colour_burgundy',\n",
      "       'colour_gray', 'colour_green', 'colour_navy blue',\n",
      "       'colour_of many colors', 'colour_olive', 'colour_pink', 'colour_red',\n",
      "       'colour_violet', 'colour_white', 'page 1 (main category)_blouses',\n",
      "       'page 1 (main category)_sale', 'page 1 (main category)_skirts',\n",
      "       'page 1 (main category)_trousers', 'location_bottom in the middle',\n",
      "       'location_bottom left', 'location_bottom right',\n",
      "       'location_top in the middle', 'location_top left', 'location_top right',\n",
      "       'model photography_en face', 'model photography_profile', 'page_1',\n",
      "       'page_2', 'page_3', 'page_4', 'page_5'],\n",
      "      dtype='object')\n"
     ]
    }
   ],
   "source": [
    "print(df.columns)\n",
    "X = df.drop([\"year\", \"country\", \"price\", 'page 2 (clothing model)'], axis=1)\n",
    "y = df['price']"
   ]
  },
  {
   "cell_type": "code",
   "execution_count": 48,
   "metadata": {},
   "outputs": [],
   "source": [
    "X_train, X_test, y_train, y_test = train_test_split(X, y, test_size=0.2, random_state=101)"
   ]
  },
  {
   "cell_type": "code",
   "execution_count": 49,
   "metadata": {},
   "outputs": [],
   "source": [
    "sgd_model = SGDRegressor(random_state=101)\n",
    "reg = make_pipeline(StandardScaler(), sgd_model)"
   ]
  },
  {
   "cell_type": "code",
   "execution_count": 50,
   "metadata": {},
   "outputs": [
    {
     "data": {
      "text/plain": [
       "Pipeline(memory=None,\n",
       "         steps=[('standardscaler',\n",
       "                 StandardScaler(copy=True, with_mean=True, with_std=True)),\n",
       "                ('sgdregressor',\n",
       "                 SGDRegressor(alpha=0.0001, average=False, early_stopping=False,\n",
       "                              epsilon=0.1, eta0=0.01, fit_intercept=True,\n",
       "                              l1_ratio=0.15, learning_rate='invscaling',\n",
       "                              loss='squared_loss', max_iter=1000,\n",
       "                              n_iter_no_change=5, penalty='l2', power_t=0.25,\n",
       "                              random_state=101, shuffle=True, tol=0.001,\n",
       "                              validation_fraction=0.1, verbose=0,\n",
       "                              warm_start=False))],\n",
       "         verbose=False)"
      ]
     },
     "execution_count": 50,
     "metadata": {},
     "output_type": "execute_result"
    }
   ],
   "source": [
    "reg.fit(X_train, y_train)"
   ]
  },
  {
   "cell_type": "code",
   "execution_count": 51,
   "metadata": {},
   "outputs": [
    {
     "data": {
      "text/html": [
       "<div>\n",
       "<style scoped>\n",
       "    .dataframe tbody tr th:only-of-type {\n",
       "        vertical-align: middle;\n",
       "    }\n",
       "\n",
       "    .dataframe tbody tr th {\n",
       "        vertical-align: top;\n",
       "    }\n",
       "\n",
       "    .dataframe thead th {\n",
       "        text-align: right;\n",
       "    }\n",
       "</style>\n",
       "<table border=\"1\" class=\"dataframe\">\n",
       "  <thead>\n",
       "    <tr style=\"text-align: right;\">\n",
       "      <th></th>\n",
       "      <th>Coefficient</th>\n",
       "    </tr>\n",
       "  </thead>\n",
       "  <tbody>\n",
       "    <tr>\n",
       "      <th>month</th>\n",
       "      <td>0.363820</td>\n",
       "    </tr>\n",
       "    <tr>\n",
       "      <th>day</th>\n",
       "      <td>0.061830</td>\n",
       "    </tr>\n",
       "    <tr>\n",
       "      <th>order</th>\n",
       "      <td>0.083784</td>\n",
       "    </tr>\n",
       "    <tr>\n",
       "      <th>session ID</th>\n",
       "      <td>-0.212051</td>\n",
       "    </tr>\n",
       "    <tr>\n",
       "      <th>price 2</th>\n",
       "      <td>9.665806</td>\n",
       "    </tr>\n",
       "    <tr>\n",
       "      <th>colour_beige</th>\n",
       "      <td>-0.586171</td>\n",
       "    </tr>\n",
       "    <tr>\n",
       "      <th>colour_black</th>\n",
       "      <td>0.166331</td>\n",
       "    </tr>\n",
       "    <tr>\n",
       "      <th>colour_blue</th>\n",
       "      <td>1.214277</td>\n",
       "    </tr>\n",
       "    <tr>\n",
       "      <th>colour_brown</th>\n",
       "      <td>-0.083400</td>\n",
       "    </tr>\n",
       "    <tr>\n",
       "      <th>colour_burgundy</th>\n",
       "      <td>0.314191</td>\n",
       "    </tr>\n",
       "    <tr>\n",
       "      <th>colour_gray</th>\n",
       "      <td>0.138249</td>\n",
       "    </tr>\n",
       "    <tr>\n",
       "      <th>colour_green</th>\n",
       "      <td>0.124842</td>\n",
       "    </tr>\n",
       "    <tr>\n",
       "      <th>colour_navy blue</th>\n",
       "      <td>-1.224080</td>\n",
       "    </tr>\n",
       "    <tr>\n",
       "      <th>colour_of many colors</th>\n",
       "      <td>-0.329082</td>\n",
       "    </tr>\n",
       "    <tr>\n",
       "      <th>colour_olive</th>\n",
       "      <td>-0.730411</td>\n",
       "    </tr>\n",
       "    <tr>\n",
       "      <th>colour_pink</th>\n",
       "      <td>0.032440</td>\n",
       "    </tr>\n",
       "    <tr>\n",
       "      <th>colour_red</th>\n",
       "      <td>-0.072105</td>\n",
       "    </tr>\n",
       "    <tr>\n",
       "      <th>colour_violet</th>\n",
       "      <td>-0.500992</td>\n",
       "    </tr>\n",
       "    <tr>\n",
       "      <th>colour_white</th>\n",
       "      <td>-0.070664</td>\n",
       "    </tr>\n",
       "    <tr>\n",
       "      <th>page 1 (main category)_blouses</th>\n",
       "      <td>-1.853698</td>\n",
       "    </tr>\n",
       "    <tr>\n",
       "      <th>page 1 (main category)_sale</th>\n",
       "      <td>-3.651235</td>\n",
       "    </tr>\n",
       "    <tr>\n",
       "      <th>page 1 (main category)_skirts</th>\n",
       "      <td>2.574822</td>\n",
       "    </tr>\n",
       "    <tr>\n",
       "      <th>page 1 (main category)_trousers</th>\n",
       "      <td>2.702438</td>\n",
       "    </tr>\n",
       "    <tr>\n",
       "      <th>location_bottom in the middle</th>\n",
       "      <td>-0.593998</td>\n",
       "    </tr>\n",
       "    <tr>\n",
       "      <th>location_bottom left</th>\n",
       "      <td>0.438481</td>\n",
       "    </tr>\n",
       "    <tr>\n",
       "      <th>location_bottom right</th>\n",
       "      <td>0.029581</td>\n",
       "    </tr>\n",
       "    <tr>\n",
       "      <th>location_top in the middle</th>\n",
       "      <td>-0.700408</td>\n",
       "    </tr>\n",
       "    <tr>\n",
       "      <th>location_top left</th>\n",
       "      <td>0.125955</td>\n",
       "    </tr>\n",
       "    <tr>\n",
       "      <th>location_top right</th>\n",
       "      <td>0.825535</td>\n",
       "    </tr>\n",
       "    <tr>\n",
       "      <th>model photography_en face</th>\n",
       "      <td>0.373573</td>\n",
       "    </tr>\n",
       "    <tr>\n",
       "      <th>model photography_profile</th>\n",
       "      <td>-0.373573</td>\n",
       "    </tr>\n",
       "    <tr>\n",
       "      <th>page_1</th>\n",
       "      <td>-0.679129</td>\n",
       "    </tr>\n",
       "    <tr>\n",
       "      <th>page_2</th>\n",
       "      <td>-0.010670</td>\n",
       "    </tr>\n",
       "    <tr>\n",
       "      <th>page_3</th>\n",
       "      <td>0.501227</td>\n",
       "    </tr>\n",
       "    <tr>\n",
       "      <th>page_4</th>\n",
       "      <td>0.566693</td>\n",
       "    </tr>\n",
       "    <tr>\n",
       "      <th>page_5</th>\n",
       "      <td>0.415969</td>\n",
       "    </tr>\n",
       "  </tbody>\n",
       "</table>\n",
       "</div>"
      ],
      "text/plain": [
       "                                 Coefficient\n",
       "month                               0.363820\n",
       "day                                 0.061830\n",
       "order                               0.083784\n",
       "session ID                         -0.212051\n",
       "price 2                             9.665806\n",
       "colour_beige                       -0.586171\n",
       "colour_black                        0.166331\n",
       "colour_blue                         1.214277\n",
       "colour_brown                       -0.083400\n",
       "colour_burgundy                     0.314191\n",
       "colour_gray                         0.138249\n",
       "colour_green                        0.124842\n",
       "colour_navy blue                   -1.224080\n",
       "colour_of many colors              -0.329082\n",
       "colour_olive                       -0.730411\n",
       "colour_pink                         0.032440\n",
       "colour_red                         -0.072105\n",
       "colour_violet                      -0.500992\n",
       "colour_white                       -0.070664\n",
       "page 1 (main category)_blouses     -1.853698\n",
       "page 1 (main category)_sale        -3.651235\n",
       "page 1 (main category)_skirts       2.574822\n",
       "page 1 (main category)_trousers     2.702438\n",
       "location_bottom in the middle      -0.593998\n",
       "location_bottom left                0.438481\n",
       "location_bottom right               0.029581\n",
       "location_top in the middle         -0.700408\n",
       "location_top left                   0.125955\n",
       "location_top right                  0.825535\n",
       "model photography_en face           0.373573\n",
       "model photography_profile          -0.373573\n",
       "page_1                             -0.679129\n",
       "page_2                             -0.010670\n",
       "page_3                              0.501227\n",
       "page_4                              0.566693\n",
       "page_5                              0.415969"
      ]
     },
     "execution_count": 51,
     "metadata": {},
     "output_type": "execute_result"
    }
   ],
   "source": [
    "coef_df = pd.DataFrame(sgd_model.coef_, X.columns, columns = ['Coefficient'])\n",
    "coef_df"
   ]
  },
  {
   "cell_type": "code",
   "execution_count": 52,
   "metadata": {},
   "outputs": [],
   "source": [
    "pred = reg.predict(X_test)"
   ]
  },
  {
   "cell_type": "code",
   "execution_count": 53,
   "metadata": {},
   "outputs": [
    {
     "name": "stdout",
     "output_type": "stream",
     "text": [
      "CV mean score:  0.8413797504491438\n",
      "R-squared: 0.8415186402535065\n",
      "MAE: 3.7342984374989365\n",
      "MSE:  25.071176762990422\n",
      "RMSE:  5.007112617366462\n"
     ]
    }
   ],
   "source": [
    "score = reg.score(X_train,y_train)\n",
    "cv_score = cross_val_score(reg, X_train, y_train, cv = 10)\n",
    "mse = mean_squared_error(y_test, pred)\n",
    "print(\"CV mean score: \", cv_score.mean())\n",
    "print(\"R-squared:\", score)\n",
    "print('MAE:', mean_absolute_error(y_test, pred))\n",
    "print(\"MSE: \", mse)\n",
    "print(\"RMSE: \", np.sqrt(mse))"
   ]
  },
  {
   "cell_type": "code",
   "execution_count": 54,
   "metadata": {},
   "outputs": [
    {
     "data": {
      "text/plain": [
       "<matplotlib.axes._subplots.AxesSubplot at 0x25b582cc518>"
      ]
     },
     "execution_count": 54,
     "metadata": {},
     "output_type": "execute_result"
    },
    {
     "data": {
      "image/png": "[encoded data removed]",
      "text/plain": [
       "<Figure size 432x288 with 1 Axes>"
      ]
     },
     "metadata": {
      "needs_background": "light"
     },
     "output_type": "display_data"
    }
   ],
   "source": [
    "sns.scatterplot(y_test,pred)"
   ]
  },
  {
   "cell_type": "code",
   "execution_count": 55,
   "metadata": {},
   "outputs": [
    {
     "data": {
      "text/plain": [
       "<matplotlib.axes._subplots.AxesSubplot at 0x25b583486a0>"
      ]
     },
     "execution_count": 55,
     "metadata": {},
     "output_type": "execute_result"
    },
    {
     "data": {
      "image/png": "[encoded data removed]",
      "text/plain": [
       "<Figure size 432x288 with 1 Axes>"
      ]
     },
     "metadata": {
      "needs_background": "light"
     },
     "output_type": "display_data"
    }
   ],
   "source": [
    "sns.distplot((y_test-pred), bins=50)"
   ]
  },
  {
   "cell_type": "markdown",
   "metadata": {},
   "source": [
    "# SGD Classifier"
   ]
  },
  {
   "cell_type": "code",
   "execution_count": 7,
   "metadata": {},
   "outputs": [],
   "source": [
    "from sklearn.linear_model import SGDClassifier\n",
    "from sklearn.metrics import classification_report,confusion_matrix\n",
    "from sklearn.preprocessing import StandardScaler\n",
    "from sklearn.pipeline import make_pipeline\n",
    "from sklearn.model_selection import train_test_split"
   ]
  },
  {
   "cell_type": "code",
   "execution_count": 8,
   "metadata": {},
   "outputs": [
    {
     "name": "stdout",
     "output_type": "stream",
     "text": [
      "Index(['year', 'month', 'day', 'order', 'country', 'session ID',\n",
      "       'page 2 (clothing model)', 'price', 'price 2', 'price_type',\n",
      "       'colour_beige', 'colour_black', 'colour_blue', 'colour_brown',\n",
      "       'colour_burgundy', 'colour_gray', 'colour_green', 'colour_navy blue',\n",
      "       'colour_of many colors', 'colour_olive', 'colour_pink', 'colour_red',\n",
      "       'colour_violet', 'colour_white', 'page 1 (main category)_blouses',\n",
      "       'page 1 (main category)_sale', 'page 1 (main category)_skirts',\n",
      "       'page 1 (main category)_trousers', 'location_bottom in the middle',\n",
      "       'location_bottom left', 'location_bottom right',\n",
      "       'location_top in the middle', 'location_top left', 'location_top right',\n",
      "       'model photography_en face', 'model photography_profile', 'page_1',\n",
      "       'page_2', 'page_3', 'page_4', 'page_5'],\n",
      "      dtype='object')\n"
     ]
    }
   ],
   "source": [
    "#predict price 2\n",
    "print(df.columns)\n",
    "X = df.drop(['year', 'country', 'page 2 (clothing model)', 'price 2'], axis=1)\n",
    "y = df['price 2']"
   ]
  },
  {
   "cell_type": "code",
   "execution_count": 9,
   "metadata": {},
   "outputs": [
    {
     "name": "stdout",
     "output_type": "stream",
     "text": [
      "Index(['year', 'month', 'day', 'order', 'country', 'session ID',\n",
      "       'page 2 (clothing model)', 'price', 'price 2', 'price_type',\n",
      "       'colour_beige', 'colour_black', 'colour_blue', 'colour_brown',\n",
      "       'colour_burgundy', 'colour_gray', 'colour_green', 'colour_navy blue',\n",
      "       'colour_of many colors', 'colour_olive', 'colour_pink', 'colour_red',\n",
      "       'colour_violet', 'colour_white', 'page 1 (main category)_blouses',\n",
      "       'page 1 (main category)_sale', 'page 1 (main category)_skirts',\n",
      "       'page 1 (main category)_trousers', 'location_bottom in the middle',\n",
      "       'location_bottom left', 'location_bottom right',\n",
      "       'location_top in the middle', 'location_top left', 'location_top right',\n",
      "       'model photography_en face', 'model photography_profile', 'page_1',\n",
      "       'page_2', 'page_3', 'page_4', 'page_5'],\n",
      "      dtype='object')\n"
     ]
    }
   ],
   "source": [
    "#predict price_type\n",
    "print(df.columns)\n",
    "X = df.drop(['year', 'country', 'page 2 (clothing model)', 'price_type'], axis=1)\n",
    "y = df['price_type']"
   ]
  },
  {
   "cell_type": "code",
   "execution_count": 10,
   "metadata": {},
   "outputs": [],
   "source": [
    "X_train, X_test, y_train, y_test = train_test_split(X, y, test_size=0.2, random_state=101)"
   ]
  },
  {
   "cell_type": "code",
   "execution_count": 11,
   "metadata": {},
   "outputs": [],
   "source": [
    "sgd_cls = SGDClassifier(random_state=101)\n",
    "clf = make_pipeline(StandardScaler(), sgd_cls)"
   ]
  },
  {
   "cell_type": "code",
   "execution_count": 12,
   "metadata": {},
   "outputs": [
    {
     "data": {
      "text/plain": [
       "Pipeline(memory=None,\n",
       "         steps=[('standardscaler',\n",
       "                 StandardScaler(copy=True, with_mean=True, with_std=True)),\n",
       "                ('sgdclassifier',\n",
       "                 SGDClassifier(alpha=0.0001, average=False, class_weight=None,\n",
       "                               early_stopping=False, epsilon=0.1, eta0=0.0,\n",
       "                               fit_intercept=True, l1_ratio=0.15,\n",
       "                               learning_rate='optimal', loss='hinge',\n",
       "                               max_iter=1000, n_iter_no_change=5, n_jobs=None,\n",
       "                               penalty='l2', power_t=0.5, random_state=101,\n",
       "                               shuffle=True, tol=0.001, validation_fraction=0.1,\n",
       "                               verbose=0, warm_start=False))],\n",
       "         verbose=False)"
      ]
     },
     "execution_count": 12,
     "metadata": {},
     "output_type": "execute_result"
    }
   ],
   "source": [
    "clf.fit(X_train, y_train)"
   ]
  },
  {
   "cell_type": "code",
   "execution_count": 13,
   "metadata": {},
   "outputs": [],
   "source": [
    "predictions = clf.predict(X_test)"
   ]
  },
  {
   "cell_type": "code",
   "execution_count": 14,
   "metadata": {},
   "outputs": [
    {
     "name": "stdout",
     "output_type": "stream",
     "text": [
      "[[  180  1173     0     0]\n",
      " [    0 22258    57     0]\n",
      " [    0   313  7482     0]\n",
      " [    0     0     0  1632]]\n"
     ]
    }
   ],
   "source": [
    "print(confusion_matrix(y_test,predictions))"
   ]
  },
  {
   "cell_type": "code",
   "execution_count": 15,
   "metadata": {},
   "outputs": [
    {
     "name": "stdout",
     "output_type": "stream",
     "text": [
      "              precision    recall  f1-score   support\n",
      "\n",
      "           0       1.00      0.13      0.23      1353\n",
      "           1       0.94      1.00      0.97     22315\n",
      "           2       0.99      0.96      0.98      7795\n",
      "           3       1.00      1.00      1.00      1632\n",
      "\n",
      "    accuracy                           0.95     33095\n",
      "   macro avg       0.98      0.77      0.79     33095\n",
      "weighted avg       0.96      0.95      0.94     33095\n",
      "\n"
     ]
    }
   ],
   "source": [
    "print(classification_report(y_test,predictions))"
   ]
  },
  {
   "cell_type": "code",
   "execution_count": null,
   "metadata": {},
   "outputs": [],
   "source": []
  },
  {
   "cell_type": "markdown",
   "metadata": {},
   "source": [
    "# SVC"
   ]
  },
  {
   "cell_type": "code",
   "execution_count": 16,
   "metadata": {},
   "outputs": [],
   "source": [
    "from sklearn.svm import SVC\n",
    "from sklearn.metrics import classification_report,confusion_matrix\n",
    "from sklearn.preprocessing import StandardScaler\n",
    "from sklearn.pipeline import make_pipeline\n",
    "from sklearn.model_selection import train_test_split"
   ]
  },
  {
   "cell_type": "code",
   "execution_count": 65,
   "metadata": {},
   "outputs": [
    {
     "name": "stdout",
     "output_type": "stream",
     "text": [
      "Index(['year', 'month', 'day', 'order', 'country', 'session ID',\n",
      "       'page 2 (clothing model)', 'price', 'price 2', 'colour_beige',\n",
      "       'colour_black', 'colour_blue', 'colour_brown', 'colour_burgundy',\n",
      "       'colour_gray', 'colour_green', 'colour_navy blue',\n",
      "       'colour_of many colors', 'colour_olive', 'colour_pink', 'colour_red',\n",
      "       'colour_violet', 'colour_white', 'page 1 (main category)_blouses',\n",
      "       'page 1 (main category)_sale', 'page 1 (main category)_skirts',\n",
      "       'page 1 (main category)_trousers', 'location_bottom in the middle',\n",
      "       'location_bottom left', 'location_bottom right',\n",
      "       'location_top in the middle', 'location_top left', 'location_top right',\n",
      "       'model photography_en face', 'model photography_profile', 'page_1',\n",
      "       'page_2', 'page_3', 'page_4', 'page_5'],\n",
      "      dtype='object')\n"
     ]
    }
   ],
   "source": [
    "#predict price 2\n",
    "print(df.columns)\n",
    "X = df.drop(['year', 'country', 'page 2 (clothing model)', 'price 2'], axis=1)\n",
    "y = df['price 2']"
   ]
  },
  {
   "cell_type": "code",
   "execution_count": 17,
   "metadata": {},
   "outputs": [
    {
     "name": "stdout",
     "output_type": "stream",
     "text": [
      "Index(['year', 'month', 'day', 'order', 'country', 'session ID',\n",
      "       'page 2 (clothing model)', 'price', 'price 2', 'price_type',\n",
      "       'colour_beige', 'colour_black', 'colour_blue', 'colour_brown',\n",
      "       'colour_burgundy', 'colour_gray', 'colour_green', 'colour_navy blue',\n",
      "       'colour_of many colors', 'colour_olive', 'colour_pink', 'colour_red',\n",
      "       'colour_violet', 'colour_white', 'page 1 (main category)_blouses',\n",
      "       'page 1 (main category)_sale', 'page 1 (main category)_skirts',\n",
      "       'page 1 (main category)_trousers', 'location_bottom in the middle',\n",
      "       'location_bottom left', 'location_bottom right',\n",
      "       'location_top in the middle', 'location_top left', 'location_top right',\n",
      "       'model photography_en face', 'model photography_profile', 'page_1',\n",
      "       'page_2', 'page_3', 'page_4', 'page_5'],\n",
      "      dtype='object')\n"
     ]
    }
   ],
   "source": [
    "#predict price_type\n",
    "print(df.columns)\n",
    "X = df.drop(['year', 'country', 'page 2 (clothing model)', 'price_type'], axis=1)\n",
    "y = df['price_type']"
   ]
  },
  {
   "cell_type": "code",
   "execution_count": 18,
   "metadata": {},
   "outputs": [],
   "source": [
    "X_train, X_test, y_train, y_test = train_test_split(X, y, test_size=0.2, random_state=101)"
   ]
  },
  {
   "cell_type": "code",
   "execution_count": 19,
   "metadata": {},
   "outputs": [],
   "source": [
    "svc_cls = SVC(random_state=101)\n",
    "clf = make_pipeline(StandardScaler(), svc_cls)"
   ]
  },
  {
   "cell_type": "code",
   "execution_count": 20,
   "metadata": {},
   "outputs": [
    {
     "data": {
      "text/plain": [
       "Pipeline(memory=None,\n",
       "         steps=[('standardscaler',\n",
       "                 StandardScaler(copy=True, with_mean=True, with_std=True)),\n",
       "                ('svc',\n",
       "                 SVC(C=1.0, cache_size=200, class_weight=None, coef0=0.0,\n",
       "                     decision_function_shape='ovr', degree=3,\n",
       "                     gamma='auto_deprecated', kernel='rbf', max_iter=-1,\n",
       "                     probability=False, random_state=101, shrinking=True,\n",
       "                     tol=0.001, verbose=False))],\n",
       "         verbose=False)"
      ]
     },
     "execution_count": 20,
     "metadata": {},
     "output_type": "execute_result"
    }
   ],
   "source": [
    "clf.fit(X_train,y_train)"
   ]
  },
  {
   "cell_type": "code",
   "execution_count": 21,
   "metadata": {},
   "outputs": [],
   "source": [
    "predictions = clf.predict(X_test)"
   ]
  },
  {
   "cell_type": "code",
   "execution_count": 22,
   "metadata": {},
   "outputs": [
    {
     "name": "stdout",
     "output_type": "stream",
     "text": [
      "[[ 1353     0     0     0]\n",
      " [    0 22313     2     0]\n",
      " [    0     0  7795     0]\n",
      " [    0     0     2  1630]]\n"
     ]
    }
   ],
   "source": [
    "print(confusion_matrix(y_test,predictions))"
   ]
  },
  {
   "cell_type": "code",
   "execution_count": 23,
   "metadata": {},
   "outputs": [
    {
     "name": "stdout",
     "output_type": "stream",
     "text": [
      "              precision    recall  f1-score   support\n",
      "\n",
      "           0       1.00      1.00      1.00      1353\n",
      "           1       1.00      1.00      1.00     22315\n",
      "           2       1.00      1.00      1.00      7795\n",
      "           3       1.00      1.00      1.00      1632\n",
      "\n",
      "    accuracy                           1.00     33095\n",
      "   macro avg       1.00      1.00      1.00     33095\n",
      "weighted avg       1.00      1.00      1.00     33095\n",
      "\n"
     ]
    }
   ],
   "source": [
    "print(classification_report(y_test,predictions))"
   ]
  },
  {
   "cell_type": "code",
   "execution_count": null,
   "metadata": {},
   "outputs": [],
   "source": []
  },
  {
   "cell_type": "markdown",
   "metadata": {},
   "source": [
    "# Decision Trees and Random Forests"
   ]
  },
  {
   "cell_type": "code",
   "execution_count": 24,
   "metadata": {},
   "outputs": [],
   "source": [
    "from sklearn.tree import DecisionTreeClassifier\n",
    "from sklearn.metrics import classification_report,confusion_matrix\n",
    "from sklearn.preprocessing import StandardScaler\n",
    "from sklearn.pipeline import make_pipeline\n",
    "from sklearn.model_selection import train_test_split\n",
    "from sklearn.ensemble import RandomForestClassifier"
   ]
  },
  {
   "cell_type": "code",
   "execution_count": 73,
   "metadata": {},
   "outputs": [
    {
     "name": "stdout",
     "output_type": "stream",
     "text": [
      "Index(['year', 'month', 'day', 'order', 'country', 'session ID',\n",
      "       'page 2 (clothing model)', 'price', 'price 2', 'colour_beige',\n",
      "       'colour_black', 'colour_blue', 'colour_brown', 'colour_burgundy',\n",
      "       'colour_gray', 'colour_green', 'colour_navy blue',\n",
      "       'colour_of many colors', 'colour_olive', 'colour_pink', 'colour_red',\n",
      "       'colour_violet', 'colour_white', 'page 1 (main category)_blouses',\n",
      "       'page 1 (main category)_sale', 'page 1 (main category)_skirts',\n",
      "       'page 1 (main category)_trousers', 'location_bottom in the middle',\n",
      "       'location_bottom left', 'location_bottom right',\n",
      "       'location_top in the middle', 'location_top left', 'location_top right',\n",
      "       'model photography_en face', 'model photography_profile', 'page_1',\n",
      "       'page_2', 'page_3', 'page_4', 'page_5'],\n",
      "      dtype='object')\n"
     ]
    }
   ],
   "source": [
    "#predict price 2\n",
    "print(df.columns)\n",
    "X = df.drop(['year', 'country', 'page 2 (clothing model)', 'price 2'], axis=1)\n",
    "y = df['price 2']"
   ]
  },
  {
   "cell_type": "code",
   "execution_count": 25,
   "metadata": {},
   "outputs": [
    {
     "name": "stdout",
     "output_type": "stream",
     "text": [
      "Index(['year', 'month', 'day', 'order', 'country', 'session ID',\n",
      "       'page 2 (clothing model)', 'price', 'price 2', 'price_type',\n",
      "       'colour_beige', 'colour_black', 'colour_blue', 'colour_brown',\n",
      "       'colour_burgundy', 'colour_gray', 'colour_green', 'colour_navy blue',\n",
      "       'colour_of many colors', 'colour_olive', 'colour_pink', 'colour_red',\n",
      "       'colour_violet', 'colour_white', 'page 1 (main category)_blouses',\n",
      "       'page 1 (main category)_sale', 'page 1 (main category)_skirts',\n",
      "       'page 1 (main category)_trousers', 'location_bottom in the middle',\n",
      "       'location_bottom left', 'location_bottom right',\n",
      "       'location_top in the middle', 'location_top left', 'location_top right',\n",
      "       'model photography_en face', 'model photography_profile', 'page_1',\n",
      "       'page_2', 'page_3', 'page_4', 'page_5'],\n",
      "      dtype='object')\n"
     ]
    }
   ],
   "source": [
    "#predict price_type\n",
    "print(df.columns)\n",
    "X = df.drop(['year', 'country', 'page 2 (clothing model)', 'price_type'], axis=1)\n",
    "y = df['price_type']"
   ]
  },
  {
   "cell_type": "code",
   "execution_count": 26,
   "metadata": {},
   "outputs": [],
   "source": [
    "X_train, X_test, y_train, y_test = train_test_split(X, y, test_size=0.2, random_state=101)"
   ]
  },
  {
   "cell_type": "code",
   "execution_count": 27,
   "metadata": {},
   "outputs": [],
   "source": [
    "dtree = DecisionTreeClassifier()"
   ]
  },
  {
   "cell_type": "code",
   "execution_count": 28,
   "metadata": {},
   "outputs": [
    {
     "data": {
      "text/plain": [
       "DecisionTreeClassifier(class_weight=None, criterion='gini', max_depth=None,\n",
       "                       max_features=None, max_leaf_nodes=None,\n",
       "                       min_impurity_decrease=0.0, min_impurity_split=None,\n",
       "                       min_samples_leaf=1, min_samples_split=2,\n",
       "                       min_weight_fraction_leaf=0.0, presort=False,\n",
       "                       random_state=None, splitter='best')"
      ]
     },
     "execution_count": 28,
     "metadata": {},
     "output_type": "execute_result"
    }
   ],
   "source": [
    "dtree.fit(X_train, y_train)"
   ]
  },
  {
   "cell_type": "code",
   "execution_count": 29,
   "metadata": {},
   "outputs": [],
   "source": [
    "predictions = dtree.predict(X_test)"
   ]
  },
  {
   "cell_type": "code",
   "execution_count": 30,
   "metadata": {},
   "outputs": [
    {
     "name": "stdout",
     "output_type": "stream",
     "text": [
      "[[ 1353     0     0     0]\n",
      " [    0 22315     0     0]\n",
      " [    0     0  7795     0]\n",
      " [    0     0     0  1632]]\n"
     ]
    }
   ],
   "source": [
    "print(confusion_matrix(y_test, predictions))"
   ]
  },
  {
   "cell_type": "code",
   "execution_count": 31,
   "metadata": {},
   "outputs": [
    {
     "name": "stdout",
     "output_type": "stream",
     "text": [
      "              precision    recall  f1-score   support\n",
      "\n",
      "           0       1.00      1.00      1.00      1353\n",
      "           1       1.00      1.00      1.00     22315\n",
      "           2       1.00      1.00      1.00      7795\n",
      "           3       1.00      1.00      1.00      1632\n",
      "\n",
      "    accuracy                           1.00     33095\n",
      "   macro avg       1.00      1.00      1.00     33095\n",
      "weighted avg       1.00      1.00      1.00     33095\n",
      "\n"
     ]
    }
   ],
   "source": [
    "print(classification_report(y_test, predictions))"
   ]
  },
  {
   "cell_type": "code",
   "execution_count": 84,
   "metadata": {},
   "outputs": [],
   "source": []
  },
  {
   "cell_type": "code",
   "execution_count": 32,
   "metadata": {},
   "outputs": [],
   "source": [
    "rfc = RandomForestClassifier()"
   ]
  },
  {
   "cell_type": "code",
   "execution_count": 33,
   "metadata": {},
   "outputs": [
    {
     "name": "stderr",
     "output_type": "stream",
     "text": [
      "C:\\Users\\Zhenya\\Anaconda3\\lib\\site-packages\\sklearn\\ensemble\\forest.py:245: FutureWarning: The default value of n_estimators will change from 10 in version 0.20 to 100 in 0.22.\n",
      "  \"10 in version 0.20 to 100 in 0.22.\", FutureWarning)\n"
     ]
    },
    {
     "data": {
      "text/plain": [
       "RandomForestClassifier(bootstrap=True, class_weight=None, criterion='gini',\n",
       "                       max_depth=None, max_features='auto', max_leaf_nodes=None,\n",
       "                       min_impurity_decrease=0.0, min_impurity_split=None,\n",
       "                       min_samples_leaf=1, min_samples_split=2,\n",
       "                       min_weight_fraction_leaf=0.0, n_estimators=10,\n",
       "                       n_jobs=None, oob_score=False, random_state=None,\n",
       "                       verbose=0, warm_start=False)"
      ]
     },
     "execution_count": 33,
     "metadata": {},
     "output_type": "execute_result"
    }
   ],
   "source": [
    "rfc.fit(X_train,np.ravel(y_train))"
   ]
  },
  {
   "cell_type": "code",
   "execution_count": 34,
   "metadata": {},
   "outputs": [],
   "source": [
    "rfc_pred = rfc.predict(X_test)"
   ]
  },
  {
   "cell_type": "code",
   "execution_count": 35,
   "metadata": {},
   "outputs": [
    {
     "name": "stdout",
     "output_type": "stream",
     "text": [
      "[[ 1353     0     0     0]\n",
      " [    0 22315     0     0]\n",
      " [    0     0  7795     0]\n",
      " [    0     0     0  1632]]\n"
     ]
    }
   ],
   "source": [
    "print(confusion_matrix(y_test, rfc_pred))"
   ]
  },
  {
   "cell_type": "code",
   "execution_count": 36,
   "metadata": {},
   "outputs": [
    {
     "name": "stdout",
     "output_type": "stream",
     "text": [
      "              precision    recall  f1-score   support\n",
      "\n",
      "           0       1.00      1.00      1.00      1353\n",
      "           1       1.00      1.00      1.00     22315\n",
      "           2       1.00      1.00      1.00      7795\n",
      "           3       1.00      1.00      1.00      1632\n",
      "\n",
      "    accuracy                           1.00     33095\n",
      "   macro avg       1.00      1.00      1.00     33095\n",
      "weighted avg       1.00      1.00      1.00     33095\n",
      "\n"
     ]
    }
   ],
   "source": [
    "print(classification_report(y_test, rfc_pred))"
   ]
  },
  {
   "cell_type": "code",
   "execution_count": 48,
   "metadata": {},
   "outputs": [],
   "source": []
  },
  {
   "cell_type": "markdown",
   "metadata": {},
   "source": [
    "# K Nearest Neighbors"
   ]
  },
  {
   "cell_type": "code",
   "execution_count": 37,
   "metadata": {},
   "outputs": [],
   "source": [
    "from sklearn.neighbors import KNeighborsClassifier\n",
    "from sklearn.metrics import classification_report,confusion_matrix\n",
    "from sklearn.model_selection import train_test_split\n",
    "from sklearn.preprocessing import StandardScaler\n",
    "from sklearn.pipeline import make_pipeline"
   ]
  },
  {
   "cell_type": "code",
   "execution_count": 86,
   "metadata": {},
   "outputs": [
    {
     "name": "stdout",
     "output_type": "stream",
     "text": [
      "Index(['year', 'month', 'day', 'order', 'country', 'session ID',\n",
      "       'page 2 (clothing model)', 'price', 'price 2', 'colour_beige',\n",
      "       'colour_black', 'colour_blue', 'colour_brown', 'colour_burgundy',\n",
      "       'colour_gray', 'colour_green', 'colour_navy blue',\n",
      "       'colour_of many colors', 'colour_olive', 'colour_pink', 'colour_red',\n",
      "       'colour_violet', 'colour_white', 'page 1 (main category)_blouses',\n",
      "       'page 1 (main category)_sale', 'page 1 (main category)_skirts',\n",
      "       'page 1 (main category)_trousers', 'location_bottom in the middle',\n",
      "       'location_bottom left', 'location_bottom right',\n",
      "       'location_top in the middle', 'location_top left', 'location_top right',\n",
      "       'model photography_en face', 'model photography_profile', 'page_1',\n",
      "       'page_2', 'page_3', 'page_4', 'page_5'],\n",
      "      dtype='object')\n"
     ]
    }
   ],
   "source": [
    "#predict price 2\n",
    "print(df.columns)\n",
    "X = df.drop(['year', 'country', 'page 2 (clothing model)', 'price 2'], axis=1)\n",
    "y = df['price 2']"
   ]
  },
  {
   "cell_type": "code",
   "execution_count": 38,
   "metadata": {},
   "outputs": [
    {
     "name": "stdout",
     "output_type": "stream",
     "text": [
      "Index(['year', 'month', 'day', 'order', 'country', 'session ID',\n",
      "       'page 2 (clothing model)', 'price', 'price 2', 'price_type',\n",
      "       'colour_beige', 'colour_black', 'colour_blue', 'colour_brown',\n",
      "       'colour_burgundy', 'colour_gray', 'colour_green', 'colour_navy blue',\n",
      "       'colour_of many colors', 'colour_olive', 'colour_pink', 'colour_red',\n",
      "       'colour_violet', 'colour_white', 'page 1 (main category)_blouses',\n",
      "       'page 1 (main category)_sale', 'page 1 (main category)_skirts',\n",
      "       'page 1 (main category)_trousers', 'location_bottom in the middle',\n",
      "       'location_bottom left', 'location_bottom right',\n",
      "       'location_top in the middle', 'location_top left', 'location_top right',\n",
      "       'model photography_en face', 'model photography_profile', 'page_1',\n",
      "       'page_2', 'page_3', 'page_4', 'page_5'],\n",
      "      dtype='object')\n"
     ]
    }
   ],
   "source": [
    "#predict price_type\n",
    "print(df.columns)\n",
    "X = df.drop(['year', 'country', 'page 2 (clothing model)', 'price_type'], axis=1)\n",
    "y = df['price_type']"
   ]
  },
  {
   "cell_type": "code",
   "execution_count": 39,
   "metadata": {},
   "outputs": [],
   "source": [
    "X_train, X_test, y_train, y_test = train_test_split(X, y, test_size=0.2, random_state=101)"
   ]
  },
  {
   "cell_type": "code",
   "execution_count": 40,
   "metadata": {},
   "outputs": [],
   "source": [
    "knn = KNeighborsClassifier(n_neighbors=5)\n",
    "clf = make_pipeline(StandardScaler(), knn)"
   ]
  },
  {
   "cell_type": "code",
   "execution_count": 41,
   "metadata": {},
   "outputs": [
    {
     "data": {
      "text/plain": [
       "Pipeline(memory=None,\n",
       "         steps=[('standardscaler',\n",
       "                 StandardScaler(copy=True, with_mean=True, with_std=True)),\n",
       "                ('kneighborsclassifier',\n",
       "                 KNeighborsClassifier(algorithm='auto', leaf_size=30,\n",
       "                                      metric='minkowski', metric_params=None,\n",
       "                                      n_jobs=None, n_neighbors=5, p=2,\n",
       "                                      weights='uniform'))],\n",
       "         verbose=False)"
      ]
     },
     "execution_count": 41,
     "metadata": {},
     "output_type": "execute_result"
    }
   ],
   "source": [
    "clf.fit(X_train,np.ravel(y_train))"
   ]
  },
  {
   "cell_type": "code",
   "execution_count": 42,
   "metadata": {},
   "outputs": [],
   "source": [
    "pred = clf.predict(X_test)"
   ]
  },
  {
   "cell_type": "code",
   "execution_count": 43,
   "metadata": {},
   "outputs": [
    {
     "name": "stdout",
     "output_type": "stream",
     "text": [
      "[[ 1349     4     0     0]\n",
      " [   10 22299     6     0]\n",
      " [    0     4  7791     0]\n",
      " [    0     2     0  1630]]\n"
     ]
    }
   ],
   "source": [
    "print(confusion_matrix(y_test,pred))"
   ]
  },
  {
   "cell_type": "code",
   "execution_count": 44,
   "metadata": {},
   "outputs": [
    {
     "name": "stdout",
     "output_type": "stream",
     "text": [
      "              precision    recall  f1-score   support\n",
      "\n",
      "           0       0.99      1.00      0.99      1353\n",
      "           1       1.00      1.00      1.00     22315\n",
      "           2       1.00      1.00      1.00      7795\n",
      "           3       1.00      1.00      1.00      1632\n",
      "\n",
      "    accuracy                           1.00     33095\n",
      "   macro avg       1.00      1.00      1.00     33095\n",
      "weighted avg       1.00      1.00      1.00     33095\n",
      "\n"
     ]
    }
   ],
   "source": [
    "print(classification_report(y_test,pred))"
   ]
  },
  {
   "cell_type": "code",
   "execution_count": null,
   "metadata": {},
   "outputs": [],
   "source": []
  },
  {
   "cell_type": "code",
   "execution_count": null,
   "metadata": {},
   "outputs": [],
   "source": []
  },
  {
   "cell_type": "code",
   "execution_count": null,
   "metadata": {},
   "outputs": [],
   "source": []
  },
  {
   "cell_type": "code",
   "execution_count": null,
   "metadata": {},
   "outputs": [],
   "source": []
  },
  {
   "cell_type": "code",
   "execution_count": null,
   "metadata": {},
   "outputs": [],
   "source": []
  },
  {
   "cell_type": "code",
   "execution_count": 46,
   "metadata": {},
   "outputs": [
    {
     "data": {
      "text/html": [
       "<div>\n",
       "<style scoped>\n",
       "    .dataframe tbody tr th:only-of-type {\n",
       "        vertical-align: middle;\n",
       "    }\n",
       "\n",
       "    .dataframe tbody tr th {\n",
       "        vertical-align: top;\n",
       "    }\n",
       "\n",
       "    .dataframe thead th {\n",
       "        text-align: right;\n",
       "    }\n",
       "</style>\n",
       "<table border=\"1\" class=\"dataframe\">\n",
       "  <thead>\n",
       "    <tr style=\"text-align: right;\">\n",
       "      <th></th>\n",
       "      <th>0</th>\n",
       "      <th>1</th>\n",
       "      <th>2</th>\n",
       "      <th>3</th>\n",
       "    </tr>\n",
       "  </thead>\n",
       "  <tbody>\n",
       "    <tr>\n",
       "      <th>0</th>\n",
       "      <td>0</td>\n",
       "      <td>1</td>\n",
       "      <td>0</td>\n",
       "      <td>0</td>\n",
       "    </tr>\n",
       "    <tr>\n",
       "      <th>1</th>\n",
       "      <td>0</td>\n",
       "      <td>1</td>\n",
       "      <td>0</td>\n",
       "      <td>0</td>\n",
       "    </tr>\n",
       "    <tr>\n",
       "      <th>2</th>\n",
       "      <td>0</td>\n",
       "      <td>0</td>\n",
       "      <td>1</td>\n",
       "      <td>0</td>\n",
       "    </tr>\n",
       "    <tr>\n",
       "      <th>3</th>\n",
       "      <td>0</td>\n",
       "      <td>1</td>\n",
       "      <td>0</td>\n",
       "      <td>0</td>\n",
       "    </tr>\n",
       "    <tr>\n",
       "      <th>4</th>\n",
       "      <td>0</td>\n",
       "      <td>0</td>\n",
       "      <td>1</td>\n",
       "      <td>0</td>\n",
       "    </tr>\n",
       "  </tbody>\n",
       "</table>\n",
       "</div>"
      ],
      "text/plain": [
       "   0  1  2  3\n",
       "0  0  1  0  0\n",
       "1  0  1  0  0\n",
       "2  0  0  1  0\n",
       "3  0  1  0  0\n",
       "4  0  0  1  0"
      ]
     },
     "execution_count": 46,
     "metadata": {},
     "output_type": "execute_result"
    }
   ],
   "source": [
    "X = df.drop(['year', 'country', 'page 2 (clothing model)', 'price_type'], axis=1)\n",
    "y = pd.get_dummies(df['price_type'])\n",
    "y.head()"
   ]
  },
  {
   "cell_type": "code",
   "execution_count": 47,
   "metadata": {},
   "outputs": [],
   "source": [
    "X_train, X_test, y_train, y_test = train_test_split(X, y, test_size=0.2, random_state=0)"
   ]
  },
  {
   "cell_type": "code",
   "execution_count": 48,
   "metadata": {},
   "outputs": [],
   "source": [
    "#SGD classifier\n",
    "sgd_cls = SGDClassifier(random_state=101)\n",
    "clf = make_pipeline(StandardScaler(), sgd_cls)"
   ]
  },
  {
   "cell_type": "code",
   "execution_count": 57,
   "metadata": {},
   "outputs": [],
   "source": [
    "#KNN classifier\n",
    "knn = KNeighborsClassifier()\n",
    "clf = make_pipeline(StandardScaler(), knn)"
   ]
  },
  {
   "cell_type": "code",
   "execution_count": 62,
   "metadata": {},
   "outputs": [],
   "source": [
    "#SVC classifier\n",
    "svc_cls = SVC(random_state=101)\n",
    "clf = make_pipeline(StandardScaler(), svc_cls)"
   ]
  },
  {
   "cell_type": "code",
   "execution_count": 63,
   "metadata": {},
   "outputs": [
    {
     "name": "stdout",
     "output_type": "stream",
     "text": [
      "[[31752     0]\n",
      " [    1  1342]]\n",
      "              precision    recall  f1-score   support\n",
      "\n",
      "           0       1.00      1.00      1.00     31752\n",
      "           1       1.00      1.00      1.00      1343\n",
      "\n",
      "    accuracy                           1.00     33095\n",
      "   macro avg       1.00      1.00      1.00     33095\n",
      "weighted avg       1.00      1.00      1.00     33095\n",
      "\n"
     ]
    }
   ],
   "source": [
    "clf.fit(X_train,y_train[0])\n",
    "predictions = clf.predict(X_test)\n",
    "print(confusion_matrix(y_test[0],predictions))\n",
    "print(classification_report(y_test[0],predictions))"
   ]
  },
  {
   "cell_type": "code",
   "execution_count": 64,
   "metadata": {},
   "outputs": [
    {
     "name": "stdout",
     "output_type": "stream",
     "text": [
      "[[10749     0]\n",
      " [    2 22344]]\n",
      "              precision    recall  f1-score   support\n",
      "\n",
      "           0       1.00      1.00      1.00     10749\n",
      "           1       1.00      1.00      1.00     22346\n",
      "\n",
      "    accuracy                           1.00     33095\n",
      "   macro avg       1.00      1.00      1.00     33095\n",
      "weighted avg       1.00      1.00      1.00     33095\n",
      "\n"
     ]
    }
   ],
   "source": [
    "clf.fit(X_train,y_train[1])\n",
    "predictions = clf.predict(X_test)\n",
    "print(confusion_matrix(y_test[1],predictions))\n",
    "print(classification_report(y_test[1],predictions))"
   ]
  },
  {
   "cell_type": "code",
   "execution_count": 65,
   "metadata": {},
   "outputs": [
    {
     "name": "stdout",
     "output_type": "stream",
     "text": [
      "[[25341     1]\n",
      " [    0  7753]]\n",
      "              precision    recall  f1-score   support\n",
      "\n",
      "           0       1.00      1.00      1.00     25342\n",
      "           1       1.00      1.00      1.00      7753\n",
      "\n",
      "    accuracy                           1.00     33095\n",
      "   macro avg       1.00      1.00      1.00     33095\n",
      "weighted avg       1.00      1.00      1.00     33095\n",
      "\n"
     ]
    }
   ],
   "source": [
    "clf.fit(X_train,y_train[2])\n",
    "predictions = clf.predict(X_test)\n",
    "print(confusion_matrix(y_test[2],predictions))\n",
    "print(classification_report(y_test[2],predictions))"
   ]
  },
  {
   "cell_type": "code",
   "execution_count": 66,
   "metadata": {},
   "outputs": [
    {
     "name": "stdout",
     "output_type": "stream",
     "text": [
      "[[31442     0]\n",
      " [    0  1653]]\n",
      "              precision    recall  f1-score   support\n",
      "\n",
      "           0       1.00      1.00      1.00     31442\n",
      "           1       1.00      1.00      1.00      1653\n",
      "\n",
      "    accuracy                           1.00     33095\n",
      "   macro avg       1.00      1.00      1.00     33095\n",
      "weighted avg       1.00      1.00      1.00     33095\n",
      "\n"
     ]
    }
   ],
   "source": [
    "clf.fit(X_train,y_train[3])\n",
    "predictions = clf.predict(X_test)\n",
    "print(confusion_matrix(y_test[3],predictions))\n",
    "print(classification_report(y_test[3],predictions))"
   ]
  },
  {
   "cell_type": "code",
   "execution_count": null,
   "metadata": {},
   "outputs": [],
   "source": []
  }
 ],
 "metadata": {
  "kernelspec": {
   "display_name": "Python 3",
   "language": "python",
   "name": "python3"
  },
  "language_info": {
   "codemirror_mode": {
    "name": "ipython",
    "version": 3
   },
   "file_extension": ".py",
   "mimetype": "text/x-python",
   "name": "python",
   "nbconvert_exporter": "python",
   "pygments_lexer": "ipython3",
   "version": "3.7.3"
  }
 },
 "nbformat": 4,
 "nbformat_minor": 2
}
